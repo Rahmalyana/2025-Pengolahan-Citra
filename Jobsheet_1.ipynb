{
  "nbformat": 4,
  "nbformat_minor": 0,
  "metadata": {
    "colab": {
      "provenance": [],
      "authorship_tag": "ABX9TyME8kANkoia4WshrSWxJ/ny",
      "include_colab_link": true
    },
    "kernelspec": {
      "name": "python3",
      "display_name": "Python 3"
    },
    "language_info": {
      "name": "python"
    }
  },
  "cells": [
    {
      "cell_type": "markdown",
      "metadata": {
        "id": "view-in-github",
        "colab_type": "text"
      },
      "source": [
        "<a href=\"https://colab.research.google.com/github/Rahmalyana/2025-Pengolahan-Citra/blob/main/Jobsheet_1.ipynb\" target=\"_parent\"><img src=\"https://colab.research.google.com/assets/colab-badge.svg\" alt=\"Open In Colab\"/></a>"
      ]
    },
    {
      "cell_type": "markdown",
      "source": [],
      "metadata": {
        "id": "uGJdqCZ_f-Av"
      }
    },
    {
      "cell_type": "markdown",
      "source": [
        "# Jobsheet 1"
      ],
      "metadata": {
        "id": "sZOxZH1Ogx_u"
      }
    },
    {
      "cell_type": "markdown",
      "source": [
        "## P1. Mendefinisikan Istilah bit, byte, kilobyte, megabyte"
      ],
      "metadata": {
        "id": "HYKhXrEvg6p5"
      }
    },
    {
      "cell_type": "code",
      "source": [
        "import numpy as np\n",
        "import matplotlib.pyplot as plt\n",
        "from skimage import data\n",
        "\n",
        "#Contoh gamvar dari sckit-image\n",
        "gambar_coins = data.coins()\n",
        "gambar_camera = data.camera()\n",
        "gambar_astronaut = data.astronaut()\n",
        "\n",
        "# Fungsi untuk menghitung ukuran gambar dalam bit, byte, KB, MB\n",
        "def hitung_ukuran(image):\n",
        "  bit_per_pixel = 8 if len (image.shape) == 2 else 24 #Grayscale=8 bit, RGB=24 bit\n",
        "  total_pixels = image.shape[0] * image.shape[1]\n",
        "  total_bits = total_pixels * bit_per_pixel\n",
        "  total_bytes = total_bytes / 8\n",
        "  total_kb = total_bytes / 1024\n",
        "  total_mb = total_kb / 1024\n",
        "  return total_bits, total_bytes, total_kb, total_mb\n",
        "\n",
        "#menyusun gambar dan ukurannya dalam satu baris\n",
        "fig, axes = plt.subplots(1, 3, figsize=(15, 5))\n",
        "\n",
        "#daftar gambar dan nama\n",
        "gambar_list = [gambar_coins, gambar_camera, gambar_astronaut]\n",
        "nama_list = [\"Coins\", \"Camera\", \"Astronaut\"]\n",
        "\n",
        "for ax, img, nama in zip(axes, gambar_list, nama_list):\n",
        "  bits, bytes_, kb, mb = hitung_ukuran(img)\n",
        "  ax.imshow(img, cmap='gray' if len(img.shape) == 2 else None)\n",
        "  ax.set_title(f\"{nama}\\n{bits} bit, {bytes_:.2f} B\\n{kb:.2f} KB, {mb:.4f} MB\")\n",
        "  ax.axis('off')\n",
        "\n",
        "plt.tight_layout()\n",
        "plt.show()\n"
      ],
      "metadata": {
        "id": "6q7mg0zchDd0"
      },
      "execution_count": null,
      "outputs": []
    }
  ]
}